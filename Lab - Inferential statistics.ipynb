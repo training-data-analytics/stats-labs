{
 "cells": [
  {
   "cell_type": "code",
   "execution_count": null,
   "metadata": {},
   "outputs": [],
   "source": [
    "#Set up the hypothesis test.\n",
    "The null hypothesis is μ = 120 mm Hg"
   ]
  },
  {
   "cell_type": "code",
   "execution_count": null,
   "metadata": {},
   "outputs": [],
   "source": [
    "#Write down all the steps followed for setting up the test.\n",
    "for testing the null hypothesis, use the test statistic:"
   ]
  },
  {
   "cell_type": "code",
   "execution_count": null,
   "metadata": {},
   "outputs": [],
   "source": [
    "#Calculate the test statistic by hand and also code it in Python. \n",
    "#It should be 4.76190. We will take a look at how to make decisions based \n",
    "#on this calculated value.\n",
    "t=(130.1-120)/21.21/square root(100)\n",
    "t=4,762\n",
    "\n",
    "we reject the null hypothesis because t>=1.9842 "
   ]
  },
  {
   "cell_type": "code",
   "execution_count": null,
   "metadata": {},
   "outputs": [],
   "source": [
    "#we draw the same conclusion by using the p-value approach\n",
    "\n",
    "p-value = 2*P(T99>4.762) < 2*P(T99>1.1942) = 2(0.025) = 0.05 \n",
    "\n",
    "we reject the null hypothesis because p-value <= α=0.05"
   ]
  },
  {
   "cell_type": "code",
   "execution_count": null,
   "metadata": {},
   "outputs": [],
   "source": [
    "#principal_component_analysis"
   ]
  }
 ],
 "metadata": {
  "kernelspec": {
   "display_name": "Python 3",
   "language": "python",
   "name": "python3"
  },
  "language_info": {
   "codemirror_mode": {
    "name": "ipython",
    "version": 3
   },
   "file_extension": ".py",
   "mimetype": "text/x-python",
   "name": "python",
   "nbconvert_exporter": "python",
   "pygments_lexer": "ipython3",
   "version": "3.8.3"
  }
 },
 "nbformat": 4,
 "nbformat_minor": 4
}
